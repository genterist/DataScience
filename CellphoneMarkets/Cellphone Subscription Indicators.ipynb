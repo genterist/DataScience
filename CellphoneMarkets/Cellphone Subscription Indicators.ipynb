{
 "cells": [
  {
   "cell_type": "markdown",
   "metadata": {},
   "source": [
    "# Cellphone Service Best Markets"
   ]
  },
  {
   "cell_type": "markdown",
   "metadata": {},
   "source": [
    "## A. Importing\n",
    "* Importing necessary libraries"
   ]
  },
  {
   "cell_type": "code",
   "execution_count": 199,
   "metadata": {},
   "outputs": [],
   "source": [
    "import sqlite3\n",
    "import pandas as pd\n",
    "import numpy as np\n",
    "import matplotlib.pyplot as plt\n",
    "from sklearn.preprocessing import MinMaxScaler\n",
    "import folium\n",
    "%matplotlib inline"
   ]
  },
  {
   "cell_type": "markdown",
   "metadata": {},
   "source": [
    "* Import data"
   ]
  },
  {
   "cell_type": "code",
   "execution_count": 3,
   "metadata": {},
   "outputs": [
    {
     "data": {
      "text/plain": [
       "(5656458, 6)"
      ]
     },
     "execution_count": 3,
     "metadata": {},
     "output_type": "execute_result"
    }
   ],
   "source": [
    "data = pd.read_csv('./wdi/Indicators.csv')\n",
    "data.shape"
   ]
  },
  {
   "cell_type": "markdown",
   "metadata": {},
   "source": [
    "## B. Data preparation"
   ]
  },
  {
   "cell_type": "code",
   "execution_count": 132,
   "metadata": {},
   "outputs": [
    {
     "data": {
      "text/plain": [
       "Index(['CountryName', 'CountryCode', 'IndicatorName', 'IndicatorCode', 'Year',\n",
       "       'Value'],\n",
       "      dtype='object')"
      ]
     },
     "execution_count": 132,
     "metadata": {},
     "output_type": "execute_result"
    }
   ],
   "source": [
    "data.columns"
   ]
  },
  {
   "cell_type": "markdown",
   "metadata": {},
   "source": [
    "* List some basic statistics"
   ]
  },
  {
   "cell_type": "code",
   "execution_count": 134,
   "metadata": {},
   "outputs": [
    {
     "data": {
      "text/plain": [
       "False"
      ]
     },
     "execution_count": 134,
     "metadata": {},
     "output_type": "execute_result"
    }
   ],
   "source": [
    "#check for null values in any cell\n",
    "data.isnull().any().any()"
   ]
  },
  {
   "cell_type": "code",
   "execution_count": 245,
   "metadata": {},
   "outputs": [],
   "source": [
    "countries = data['CountryName'].unique().tolist()\n",
    "countryCodes = data['CountryCode'].unique().tolist()\n",
    "indicators = data['IndicatorName'].unique().tolist()\n",
    "indicator_codes = data['IndicatorCode'].unique().tolist()"
   ]
  },
  {
   "cell_type": "code",
   "execution_count": 5,
   "metadata": {},
   "outputs": [
    {
     "name": "stdout",
     "output_type": "stream",
     "text": [
      "Countries: 247   Indicators: 1344\n"
     ]
    }
   ],
   "source": [
    "print ('Countries:',len(countries),'  Indicators:',len(indicators))"
   ]
  },
  {
   "cell_type": "markdown",
   "metadata": {},
   "source": [
    "* Create a data frame for Mobile cellular subscriptions"
   ]
  },
  {
   "cell_type": "code",
   "execution_count": 265,
   "metadata": {},
   "outputs": [
    {
     "data": {
      "text/html": [
       "<div>\n",
       "<style>\n",
       "    .dataframe thead tr:only-child th {\n",
       "        text-align: right;\n",
       "    }\n",
       "\n",
       "    .dataframe thead th {\n",
       "        text-align: left;\n",
       "    }\n",
       "\n",
       "    .dataframe tbody tr th {\n",
       "        vertical-align: top;\n",
       "    }\n",
       "</style>\n",
       "<table border=\"1\" class=\"dataframe\">\n",
       "  <thead>\n",
       "    <tr style=\"text-align: right;\">\n",
       "      <th></th>\n",
       "      <th>CountryName</th>\n",
       "      <th>CountryCode</th>\n",
       "      <th>Year</th>\n",
       "      <th>Cellphone</th>\n",
       "    </tr>\n",
       "  </thead>\n",
       "  <tbody>\n",
       "    <tr>\n",
       "      <th>2485343</th>\n",
       "      <td>Arab World</td>\n",
       "      <td>ARB</td>\n",
       "      <td>1995</td>\n",
       "      <td>501551.0</td>\n",
       "    </tr>\n",
       "    <tr>\n",
       "      <th>2485757</th>\n",
       "      <td>Caribbean small states</td>\n",
       "      <td>CSS</td>\n",
       "      <td>1995</td>\n",
       "      <td>66297.0</td>\n",
       "    </tr>\n",
       "    <tr>\n",
       "      <th>2486225</th>\n",
       "      <td>Central Europe and the Baltics</td>\n",
       "      <td>CEB</td>\n",
       "      <td>1995</td>\n",
       "      <td>552442.0</td>\n",
       "    </tr>\n",
       "  </tbody>\n",
       "</table>\n",
       "</div>"
      ],
      "text/plain": [
       "                            CountryName CountryCode  Year  Cellphone\n",
       "2485343                      Arab World         ARB  1995   501551.0\n",
       "2485757          Caribbean small states         CSS  1995    66297.0\n",
       "2486225  Central Europe and the Baltics         CEB  1995   552442.0"
      ]
     },
     "execution_count": 265,
     "metadata": {},
     "output_type": "execute_result"
    }
   ],
   "source": [
    "df_cellfone = data.loc[(data['IndicatorName'] == 'Mobile cellular subscriptions') & (data['Year'] >= 1995)]\n",
    "df_cellfone = df_cellfone.drop(['IndicatorName', 'IndicatorCode'], axis=1)\n",
    "df_cellfone.columns = ['CountryName','CountryCode','Year','Cellphone']\n",
    "df_cellfone.head(3)"
   ]
  },
  {
   "cell_type": "markdown",
   "metadata": {},
   "source": [
    "* Create an empty dataframe to collect any feature that correlate well to mobile cellular subscriptions"
   ]
  },
  {
   "cell_type": "code",
   "execution_count": 266,
   "metadata": {},
   "outputs": [
    {
     "data": {
      "text/html": [
       "<div>\n",
       "<style>\n",
       "    .dataframe thead tr:only-child th {\n",
       "        text-align: right;\n",
       "    }\n",
       "\n",
       "    .dataframe thead th {\n",
       "        text-align: left;\n",
       "    }\n",
       "\n",
       "    .dataframe tbody tr th {\n",
       "        vertical-align: top;\n",
       "    }\n",
       "</style>\n",
       "<table border=\"1\" class=\"dataframe\">\n",
       "  <thead>\n",
       "    <tr style=\"text-align: right;\">\n",
       "      <th></th>\n",
       "      <th>Correlation</th>\n",
       "      <th>IndicatorCode</th>\n",
       "      <th>Length</th>\n",
       "    </tr>\n",
       "  </thead>\n",
       "  <tbody>\n",
       "    <tr>\n",
       "      <th>0</th>\n",
       "      <td>0.0</td>\n",
       "      <td>a</td>\n",
       "      <td>0</td>\n",
       "    </tr>\n",
       "  </tbody>\n",
       "</table>\n",
       "</div>"
      ],
      "text/plain": [
       "   Correlation IndicatorCode  Length\n",
       "0          0.0             a       0"
      ]
     },
     "execution_count": 266,
     "metadata": {},
     "output_type": "execute_result"
    }
   ],
   "source": [
    "df_features = pd.DataFrame({'IndicatorCode':['a'],'Correlation':[0.0],'Length':[0]})\n",
    "df_features\n"
   ]
  },
  {
   "cell_type": "markdown",
   "metadata": {},
   "source": [
    "* Loop through the entire dataset and calculate correlation score. Features with correlation score greater or equal to 0.89 will be selected"
   ]
  },
  {
   "cell_type": "code",
   "execution_count": 268,
   "metadata": {},
   "outputs": [
    {
     "data": {
      "text/plain": [
       "(58, 3)"
      ]
     },
     "execution_count": 268,
     "metadata": {},
     "output_type": "execute_result"
    }
   ],
   "source": [
    "for f in indicator_codes:\n",
    "    temp = data.loc[(data['IndicatorCode'] == f) & (data['Year'] >= 1995)]\n",
    "    temp = temp.drop(['IndicatorName', 'IndicatorCode'], axis=1)\n",
    "    temp.columns = ['CountryName','CountryCode','Year', f]\n",
    "    temp = df_cellfone.merge(temp, on=['CountryCode','Year'], how='inner')\n",
    "    related = temp['Cellphone'].corr(temp[f])\n",
    "    #print(\"%s: %f\" % (f,related))\n",
    "    if (related >= 0.85):\n",
    "        df_features.loc[-1] = [related,f,len(temp)]\n",
    "        df_features.index = df_features.index + 1\n",
    "        df_features = df_features.sort_index()\n",
    "df_features.shape"
   ]
  },
  {
   "cell_type": "markdown",
   "metadata": {},
   "source": [
    "* Expand the df_features and in this case, we just add one more column - the \"Indicator Name\""
   ]
  },
  {
   "cell_type": "code",
   "execution_count": 269,
   "metadata": {},
   "outputs": [],
   "source": [
    "df_indicators = pd.DataFrame([indicators,indicator_codes])\n",
    "df_indicators = df_indicators.transpose()\n",
    "df_indicators.columns = ['Indicator Names', 'IndicatorCode']\n",
    "df_features = df_features.merge(df_indicators, on=['IndicatorCode'])"
   ]
  },
  {
   "cell_type": "markdown",
   "metadata": {},
   "source": [
    "* Here the features will be displayed. Note that while some correlation scores are high, they have very low \"Length\" values which indicates lesser confidence when compared to entries with same Correlation scores but with higher Length."
   ]
  },
  {
   "cell_type": "code",
   "execution_count": 271,
   "metadata": {},
   "outputs": [
    {
     "data": {
      "text/html": [
       "<div>\n",
       "<style>\n",
       "    .dataframe thead tr:only-child th {\n",
       "        text-align: right;\n",
       "    }\n",
       "\n",
       "    .dataframe thead th {\n",
       "        text-align: left;\n",
       "    }\n",
       "\n",
       "    .dataframe tbody tr th {\n",
       "        vertical-align: top;\n",
       "    }\n",
       "</style>\n",
       "<table border=\"1\" class=\"dataframe\">\n",
       "  <thead>\n",
       "    <tr style=\"text-align: right;\">\n",
       "      <th></th>\n",
       "      <th>Correlation</th>\n",
       "      <th>IndicatorCode</th>\n",
       "      <th>Length</th>\n",
       "      <th>Indicator Names</th>\n",
       "    </tr>\n",
       "  </thead>\n",
       "  <tbody>\n",
       "    <tr>\n",
       "      <th>41</th>\n",
       "      <td>0.921564</td>\n",
       "      <td>DT.DOD.PRVS.CD</td>\n",
       "      <td>2559</td>\n",
       "      <td>External debt stocks, long-term private sector...</td>\n",
       "    </tr>\n",
       "    <tr>\n",
       "      <th>33</th>\n",
       "      <td>0.922053</td>\n",
       "      <td>DT.NFL.DECT.CD</td>\n",
       "      <td>2559</td>\n",
       "      <td>Net flows on external debt, total (NFL, curren...</td>\n",
       "    </tr>\n",
       "    <tr>\n",
       "      <th>39</th>\n",
       "      <td>0.923879</td>\n",
       "      <td>DT.DOD.DSTC.CD</td>\n",
       "      <td>2559</td>\n",
       "      <td>External debt stocks, short-term (DOD, current...</td>\n",
       "    </tr>\n",
       "    <tr>\n",
       "      <th>28</th>\n",
       "      <td>0.924596</td>\n",
       "      <td>DT.DOD.PNGC.CD</td>\n",
       "      <td>2559</td>\n",
       "      <td>PNG, commercial banks and other creditors (DOD...</td>\n",
       "    </tr>\n",
       "    <tr>\n",
       "      <th>50</th>\n",
       "      <td>0.932751</td>\n",
       "      <td>BX.TRF.PWKR.CD.DT</td>\n",
       "      <td>3793</td>\n",
       "      <td>Personal remittances, received (current US$)</td>\n",
       "    </tr>\n",
       "    <tr>\n",
       "      <th>54</th>\n",
       "      <td>0.944459</td>\n",
       "      <td>NV.AGR.TOTL.CD</td>\n",
       "      <td>4128</td>\n",
       "      <td>Agriculture, value added (current US$)</td>\n",
       "    </tr>\n",
       "    <tr>\n",
       "      <th>3</th>\n",
       "      <td>0.948240</td>\n",
       "      <td>BX.TRF.PWKR.CD</td>\n",
       "      <td>1583</td>\n",
       "      <td>Personal transfers, receipts (BoP, current US$)</td>\n",
       "    </tr>\n",
       "    <tr>\n",
       "      <th>0</th>\n",
       "      <td>0.955018</td>\n",
       "      <td>DT.DOD.PVLX.CD</td>\n",
       "      <td>117</td>\n",
       "      <td>Present value of external debt (current US$)</td>\n",
       "    </tr>\n",
       "    <tr>\n",
       "      <th>51</th>\n",
       "      <td>0.973193</td>\n",
       "      <td>ER.H2O.FWTL.K3</td>\n",
       "      <td>545</td>\n",
       "      <td>Annual freshwater withdrawals, total (billion ...</td>\n",
       "    </tr>\n",
       "    <tr>\n",
       "      <th>56</th>\n",
       "      <td>1.000000</td>\n",
       "      <td>IT.CEL.SETS</td>\n",
       "      <td>4683</td>\n",
       "      <td>Mobile cellular subscriptions</td>\n",
       "    </tr>\n",
       "  </tbody>\n",
       "</table>\n",
       "</div>"
      ],
      "text/plain": [
       "    Correlation      IndicatorCode  Length  \\\n",
       "41     0.921564     DT.DOD.PRVS.CD    2559   \n",
       "33     0.922053     DT.NFL.DECT.CD    2559   \n",
       "39     0.923879     DT.DOD.DSTC.CD    2559   \n",
       "28     0.924596     DT.DOD.PNGC.CD    2559   \n",
       "50     0.932751  BX.TRF.PWKR.CD.DT    3793   \n",
       "54     0.944459     NV.AGR.TOTL.CD    4128   \n",
       "3      0.948240     BX.TRF.PWKR.CD    1583   \n",
       "0      0.955018     DT.DOD.PVLX.CD     117   \n",
       "51     0.973193     ER.H2O.FWTL.K3     545   \n",
       "56     1.000000        IT.CEL.SETS    4683   \n",
       "\n",
       "                                      Indicator Names  \n",
       "41  External debt stocks, long-term private sector...  \n",
       "33  Net flows on external debt, total (NFL, curren...  \n",
       "39  External debt stocks, short-term (DOD, current...  \n",
       "28  PNG, commercial banks and other creditors (DOD...  \n",
       "50       Personal remittances, received (current US$)  \n",
       "54             Agriculture, value added (current US$)  \n",
       "3     Personal transfers, receipts (BoP, current US$)  \n",
       "0        Present value of external debt (current US$)  \n",
       "51  Annual freshwater withdrawals, total (billion ...  \n",
       "56                      Mobile cellular subscriptions  "
      ]
     },
     "execution_count": 271,
     "metadata": {},
     "output_type": "execute_result"
    }
   ],
   "source": [
    "\n",
    "df_features_filtered = df_features.sort_values(by=['Correlation'])\n",
    "df_features_filtered.tail(10)"
   ]
  },
  {
   "cell_type": "markdown",
   "metadata": {},
   "source": [
    "## C. DATA EXPLORATION"
   ]
  },
  {
   "cell_type": "markdown",
   "metadata": {},
   "source": [
    "### Top 10 features based on both correlation and length (unverified)\n",
    "* Agriculture, value added  : NV.AGR.TOTL.CD\t\n",
    "* Personal remittances, received  : BX.TRF.PWKR.CD.DT\n",
    "* Net flows on external debt, total : DT.NFL.DECT.CD\n",
    "* Container port traffic : IS.SHP.GOOD.TU\t\n",
    "* Trademark applications, direct resident : IP.TMK.RESD\t\n",
    "* Primary income on FDI, payments : BX.KLT.DREM.CD.DT\t\n",
    "* HFC gas emissions (thousand metric tons of CO2) : EN.ATM.HFCG.KT.CE\t\n",
    "* Fixed broadband subscriptions : IT.NET.BBND\t\n",
    "* Grants, excluding technical cooperation  : BX.GRT.EXTA.CD.WD\n",
    "* GDP, PPP : NY.GDP.MKTP.PP.CD\t"
   ]
  },
  {
   "cell_type": "code",
   "execution_count": 272,
   "metadata": {},
   "outputs": [
    {
     "data": {
      "text/plain": [
       "<matplotlib.axes._subplots.AxesSubplot at 0x1a166092b0>"
      ]
     },
     "execution_count": 272,
     "metadata": {},
     "output_type": "execute_result"
    },
    {
     "data": {
      "image/png": "[encoded data removed]",
      "text/plain": [
       "<matplotlib.figure.Figure at 0x1a16645ba8>"
      ]
     },
     "metadata": {},
     "output_type": "display_data"
    }
   ],
   "source": [
    "df_features_codeCount = df_features['IndicatorCode'].str.split('.', expand=True)\n",
    "df_features_codeCount.drop(df_features_codeCount.index[1:6], axis = 1, inplace=True)\n",
    "df_features_codeCount = df_features_codeCount[df_features_codeCount.index[0]].value_counts()\n",
    "df_features_codeCount.plot(kind='bar', figsize=(15,10), title='Top categories - Cellphone subscription indicators')\n",
    "# https://pandas.pydata.org/pandas-docs/stable/generated/pandas.DataFrame.plot.html"
   ]
  },
  {
   "cell_type": "code",
   "execution_count": 277,
   "metadata": {},
   "outputs": [],
   "source": [
    "featured_codes=['NV.AGR.TOTL.CD','BX.TRF.PWKR.CD.DT','DT.NFL.DECT.CD','IS.SHP.GOOD.TU','IP.TMK.RESD','BX.KLT.DREM.CD.DT','EN.ATM.HFCG.KT.CE','IT.NET.BBND','BX.GRT.EXTA.CD.WD','NY.GDP.MKTP.PP.CD']\n",
    "df_features_combined = df_cellfone\n",
    "#df_features_combined.head(5)"
   ]
  },
  {
   "cell_type": "code",
   "execution_count": 278,
   "metadata": {},
   "outputs": [
    {
     "data": {
      "text/html": [
       "<div>\n",
       "<style>\n",
       "    .dataframe thead tr:only-child th {\n",
       "        text-align: right;\n",
       "    }\n",
       "\n",
       "    .dataframe thead th {\n",
       "        text-align: left;\n",
       "    }\n",
       "\n",
       "    .dataframe tbody tr th {\n",
       "        vertical-align: top;\n",
       "    }\n",
       "</style>\n",
       "<table border=\"1\" class=\"dataframe\">\n",
       "  <thead>\n",
       "    <tr style=\"text-align: right;\">\n",
       "      <th></th>\n",
       "      <th>CountryName</th>\n",
       "      <th>CountryCode</th>\n",
       "      <th>Year</th>\n",
       "      <th>NV.AGR.TOTL.CD</th>\n",
       "      <th>BX.TRF.PWKR.CD.DT</th>\n",
       "      <th>DT.NFL.DECT.CD</th>\n",
       "      <th>IS.SHP.GOOD.TU</th>\n",
       "      <th>IP.TMK.RESD</th>\n",
       "      <th>BX.KLT.DREM.CD.DT</th>\n",
       "      <th>EN.ATM.HFCG.KT.CE</th>\n",
       "      <th>IT.NET.BBND</th>\n",
       "      <th>BX.GRT.EXTA.CD.WD</th>\n",
       "      <th>NY.GDP.MKTP.PP.CD</th>\n",
       "    </tr>\n",
       "  </thead>\n",
       "  <tbody>\n",
       "    <tr>\n",
       "      <th>0</th>\n",
       "      <td>Brazil</td>\n",
       "      <td>BRA</td>\n",
       "      <td>2000</td>\n",
       "      <td>1343.901282</td>\n",
       "      <td>71.129154</td>\n",
       "      <td>192.817924</td>\n",
       "      <td>0.104066</td>\n",
       "      <td>0.003750</td>\n",
       "      <td>182.762797</td>\n",
       "      <td>0.000006</td>\n",
       "      <td>0.004313</td>\n",
       "      <td>2.305055</td>\n",
       "      <td>68362.698890</td>\n",
       "    </tr>\n",
       "    <tr>\n",
       "      <th>1</th>\n",
       "      <td>China</td>\n",
       "      <td>CHN</td>\n",
       "      <td>2000</td>\n",
       "      <td>2084.989855</td>\n",
       "      <td>56.554546</td>\n",
       "      <td>-28.814825</td>\n",
       "      <td>0.480882</td>\n",
       "      <td>0.002131</td>\n",
       "      <td>236.900657</td>\n",
       "      <td>0.000447</td>\n",
       "      <td>0.000266</td>\n",
       "      <td>3.394558</td>\n",
       "      <td>43175.389975</td>\n",
       "    </tr>\n",
       "    <tr>\n",
       "      <th>2</th>\n",
       "      <td>Colombia</td>\n",
       "      <td>COL</td>\n",
       "      <td>2000</td>\n",
       "      <td>3676.132271</td>\n",
       "      <td>713.453656</td>\n",
       "      <td>-102.352844</td>\n",
       "      <td>0.350757</td>\n",
       "      <td>0.003086</td>\n",
       "      <td>290.357637</td>\n",
       "      <td>0.000000</td>\n",
       "      <td>0.003931</td>\n",
       "      <td>34.925543</td>\n",
       "      <td>117898.549289</td>\n",
       "    </tr>\n",
       "    <tr>\n",
       "      <th>3</th>\n",
       "      <td>Mexico</td>\n",
       "      <td>MEX</td>\n",
       "      <td>2000</td>\n",
       "      <td>1634.192265</td>\n",
       "      <td>534.494041</td>\n",
       "      <td>-1105.732184</td>\n",
       "      <td>0.093459</td>\n",
       "      <td>0.002607</td>\n",
       "      <td>431.619942</td>\n",
       "      <td>0.000238</td>\n",
       "      <td>0.001066</td>\n",
       "      <td>1.491702</td>\n",
       "      <td>75354.638086</td>\n",
       "    </tr>\n",
       "    <tr>\n",
       "      <th>4</th>\n",
       "      <td>Peru</td>\n",
       "      <td>PER</td>\n",
       "      <td>2000</td>\n",
       "      <td>3248.144467</td>\n",
       "      <td>563.378635</td>\n",
       "      <td>222.447261</td>\n",
       "      <td>0.361603</td>\n",
       "      <td>0.006239</td>\n",
       "      <td>270.240774</td>\n",
       "      <td>0.000081</td>\n",
       "      <td>0.000846</td>\n",
       "      <td>124.425269</td>\n",
       "      <td>104911.996000</td>\n",
       "    </tr>\n",
       "    <tr>\n",
       "      <th>5</th>\n",
       "      <td>Low &amp; middle income</td>\n",
       "      <td>LMY</td>\n",
       "      <td>2005</td>\n",
       "      <td>823.229460</td>\n",
       "      <td>153.238552</td>\n",
       "      <td>87.082301</td>\n",
       "      <td>0.122381</td>\n",
       "      <td>0.000983</td>\n",
       "      <td>144.358004</td>\n",
       "      <td>0.000204</td>\n",
       "      <td>0.044259</td>\n",
       "      <td>51.034220</td>\n",
       "      <td>22529.088331</td>\n",
       "    </tr>\n",
       "    <tr>\n",
       "      <th>6</th>\n",
       "      <td>Brazil</td>\n",
       "      <td>BRA</td>\n",
       "      <td>2005</td>\n",
       "      <td>480.634619</td>\n",
       "      <td>32.540854</td>\n",
       "      <td>-272.092548</td>\n",
       "      <td>0.065562</td>\n",
       "      <td>0.000964</td>\n",
       "      <td>128.004746</td>\n",
       "      <td>0.000021</td>\n",
       "      <td>0.037511</td>\n",
       "      <td>1.863814</td>\n",
       "      <td>23787.854013</td>\n",
       "    </tr>\n",
       "    <tr>\n",
       "      <th>7</th>\n",
       "      <td>China</td>\n",
       "      <td>CHN</td>\n",
       "      <td>2005</td>\n",
       "      <td>676.352929</td>\n",
       "      <td>8.482488</td>\n",
       "      <td>101.139434</td>\n",
       "      <td>0.170931</td>\n",
       "      <td>0.001508</td>\n",
       "      <td>120.909425</td>\n",
       "      <td>0.000373</td>\n",
       "      <td>0.094940</td>\n",
       "      <td>0.985699</td>\n",
       "      <td>16746.545102</td>\n",
       "    </tr>\n",
       "    <tr>\n",
       "      <th>8</th>\n",
       "      <td>Colombia</td>\n",
       "      <td>COL</td>\n",
       "      <td>2005</td>\n",
       "      <td>518.219107</td>\n",
       "      <td>153.117226</td>\n",
       "      <td>-10.793322</td>\n",
       "      <td>0.056573</td>\n",
       "      <td>0.000544</td>\n",
       "      <td>163.223129</td>\n",
       "      <td>0.000000</td>\n",
       "      <td>0.014585</td>\n",
       "      <td>8.508927</td>\n",
       "      <td>16340.293126</td>\n",
       "    </tr>\n",
       "    <tr>\n",
       "      <th>9</th>\n",
       "      <td>Costa Rica</td>\n",
       "      <td>CRI</td>\n",
       "      <td>2005</td>\n",
       "      <td>1473.507061</td>\n",
       "      <td>381.680288</td>\n",
       "      <td>764.226077</td>\n",
       "      <td>0.672311</td>\n",
       "      <td>0.004096</td>\n",
       "      <td>674.494059</td>\n",
       "      <td>0.000056</td>\n",
       "      <td>0.040783</td>\n",
       "      <td>21.292921</td>\n",
       "      <td>37123.799658</td>\n",
       "    </tr>\n",
       "  </tbody>\n",
       "</table>\n",
       "</div>"
      ],
      "text/plain": [
       "           CountryName CountryCode  Year  NV.AGR.TOTL.CD  BX.TRF.PWKR.CD.DT  \\\n",
       "0               Brazil         BRA  2000     1343.901282          71.129154   \n",
       "1                China         CHN  2000     2084.989855          56.554546   \n",
       "2             Colombia         COL  2000     3676.132271         713.453656   \n",
       "3               Mexico         MEX  2000     1634.192265         534.494041   \n",
       "4                 Peru         PER  2000     3248.144467         563.378635   \n",
       "5  Low & middle income         LMY  2005      823.229460         153.238552   \n",
       "6               Brazil         BRA  2005      480.634619          32.540854   \n",
       "7                China         CHN  2005      676.352929           8.482488   \n",
       "8             Colombia         COL  2005      518.219107         153.117226   \n",
       "9           Costa Rica         CRI  2005     1473.507061         381.680288   \n",
       "\n",
       "   DT.NFL.DECT.CD  IS.SHP.GOOD.TU  IP.TMK.RESD  BX.KLT.DREM.CD.DT  \\\n",
       "0      192.817924        0.104066     0.003750         182.762797   \n",
       "1      -28.814825        0.480882     0.002131         236.900657   \n",
       "2     -102.352844        0.350757     0.003086         290.357637   \n",
       "3    -1105.732184        0.093459     0.002607         431.619942   \n",
       "4      222.447261        0.361603     0.006239         270.240774   \n",
       "5       87.082301        0.122381     0.000983         144.358004   \n",
       "6     -272.092548        0.065562     0.000964         128.004746   \n",
       "7      101.139434        0.170931     0.001508         120.909425   \n",
       "8      -10.793322        0.056573     0.000544         163.223129   \n",
       "9      764.226077        0.672311     0.004096         674.494059   \n",
       "\n",
       "   EN.ATM.HFCG.KT.CE  IT.NET.BBND  BX.GRT.EXTA.CD.WD  NY.GDP.MKTP.PP.CD  \n",
       "0           0.000006     0.004313           2.305055       68362.698890  \n",
       "1           0.000447     0.000266           3.394558       43175.389975  \n",
       "2           0.000000     0.003931          34.925543      117898.549289  \n",
       "3           0.000238     0.001066           1.491702       75354.638086  \n",
       "4           0.000081     0.000846         124.425269      104911.996000  \n",
       "5           0.000204     0.044259          51.034220       22529.088331  \n",
       "6           0.000021     0.037511           1.863814       23787.854013  \n",
       "7           0.000373     0.094940           0.985699       16746.545102  \n",
       "8           0.000000     0.014585           8.508927       16340.293126  \n",
       "9           0.000056     0.040783          21.292921       37123.799658  "
      ]
     },
     "execution_count": 278,
     "metadata": {},
     "output_type": "execute_result"
    }
   ],
   "source": [
    "for f in featured_codes:\n",
    "    temp = data.loc[(data['IndicatorCode'] == f) & (data['Year'] >= 1995)]\n",
    "    temp = temp.drop(['IndicatorName', 'IndicatorCode'], axis=1)\n",
    "    temp.columns = ['CountryName','CountryCode','Year', f]\n",
    "    df_features_combined = df_features_combined.merge(temp, on=['CountryName','CountryCode','Year'], how='inner')\n",
    "    #get the relationship of each indicator with \"Cellphone\"\n",
    "    df_features_combined[f] = df_features_combined[f]/df_features_combined['Cellphone']\n",
    "#drop \"Cellphone\" out of the df\n",
    "df_features_combined = df_features_combined.drop('Cellphone', axis=1)\n",
    "df_features_combined.head(10)"
   ]
  },
  {
   "cell_type": "code",
   "execution_count": 398,
   "metadata": {},
   "outputs": [
    {
     "data": {
      "text/html": [
       "<div>\n",
       "<style>\n",
       "    .dataframe thead tr:only-child th {\n",
       "        text-align: right;\n",
       "    }\n",
       "\n",
       "    .dataframe thead th {\n",
       "        text-align: left;\n",
       "    }\n",
       "\n",
       "    .dataframe tbody tr th {\n",
       "        vertical-align: top;\n",
       "    }\n",
       "</style>\n",
       "<table border=\"1\" class=\"dataframe\">\n",
       "  <thead>\n",
       "    <tr style=\"text-align: right;\">\n",
       "      <th></th>\n",
       "      <th>CountryName</th>\n",
       "      <th>CountryCode</th>\n",
       "      <th>NV.AGR.TOTL.CD</th>\n",
       "      <th>BX.TRF.PWKR.CD.DT</th>\n",
       "      <th>DT.NFL.DECT.CD</th>\n",
       "      <th>IS.SHP.GOOD.TU</th>\n",
       "      <th>IP.TMK.RESD</th>\n",
       "      <th>BX.KLT.DREM.CD.DT</th>\n",
       "      <th>EN.ATM.HFCG.KT.CE</th>\n",
       "      <th>IT.NET.BBND</th>\n",
       "      <th>BX.GRT.EXTA.CD.WD</th>\n",
       "      <th>NY.GDP.MKTP.PP.CD</th>\n",
       "    </tr>\n",
       "  </thead>\n",
       "  <tbody>\n",
       "    <tr>\n",
       "      <th>0</th>\n",
       "      <td>Albania</td>\n",
       "      <td>ALB</td>\n",
       "      <td>980.851852</td>\n",
       "      <td>616.656147</td>\n",
       "      <td>522.210978</td>\n",
       "      <td>0.028716</td>\n",
       "      <td>0.000111</td>\n",
       "      <td>151.723078</td>\n",
       "      <td>0.000043</td>\n",
       "      <td>0.036807</td>\n",
       "      <td>81.727929</td>\n",
       "      <td>11978.772542</td>\n",
       "    </tr>\n",
       "    <tr>\n",
       "      <th>1</th>\n",
       "      <td>Algeria</td>\n",
       "      <td>DZA</td>\n",
       "      <td>416.365198</td>\n",
       "      <td>5.997203</td>\n",
       "      <td>-6.979129</td>\n",
       "      <td>0.008535</td>\n",
       "      <td>0.000063</td>\n",
       "      <td>148.184505</td>\n",
       "      <td>0.000008</td>\n",
       "      <td>0.027456</td>\n",
       "      <td>2.235803</td>\n",
       "      <td>13906.141140</td>\n",
       "    </tr>\n",
       "    <tr>\n",
       "      <th>2</th>\n",
       "      <td>Bangladesh</td>\n",
       "      <td>BGD</td>\n",
       "      <td>324.861301</td>\n",
       "      <td>180.011626</td>\n",
       "      <td>29.378517</td>\n",
       "      <td>0.022205</td>\n",
       "      <td>0.000130</td>\n",
       "      <td>20.780163</td>\n",
       "      <td>0.000000</td>\n",
       "      <td>0.003612</td>\n",
       "      <td>27.880311</td>\n",
       "      <td>6286.571537</td>\n",
       "    </tr>\n",
       "    <tr>\n",
       "      <th>3</th>\n",
       "      <td>Brazil</td>\n",
       "      <td>BRA</td>\n",
       "      <td>700.083491</td>\n",
       "      <td>35.458936</td>\n",
       "      <td>124.693497</td>\n",
       "      <td>0.064781</td>\n",
       "      <td>0.001476</td>\n",
       "      <td>159.190356</td>\n",
       "      <td>0.000016</td>\n",
       "      <td>0.044980</td>\n",
       "      <td>1.634781</td>\n",
       "      <td>30848.469202</td>\n",
       "    </tr>\n",
       "    <tr>\n",
       "      <th>4</th>\n",
       "      <td>Cambodia</td>\n",
       "      <td>KHM</td>\n",
       "      <td>633.718833</td>\n",
       "      <td>31.533360</td>\n",
       "      <td>65.452955</td>\n",
       "      <td>0.044291</td>\n",
       "      <td>0.000120</td>\n",
       "      <td>72.994144</td>\n",
       "      <td>0.000000</td>\n",
       "      <td>0.004146</td>\n",
       "      <td>78.618287</td>\n",
       "      <td>6028.525418</td>\n",
       "    </tr>\n",
       "  </tbody>\n",
       "</table>\n",
       "</div>"
      ],
      "text/plain": [
       "  CountryName CountryCode  NV.AGR.TOTL.CD  BX.TRF.PWKR.CD.DT  DT.NFL.DECT.CD  \\\n",
       "0     Albania         ALB      980.851852         616.656147      522.210978   \n",
       "1     Algeria         DZA      416.365198           5.997203       -6.979129   \n",
       "2  Bangladesh         BGD      324.861301         180.011626       29.378517   \n",
       "3      Brazil         BRA      700.083491          35.458936      124.693497   \n",
       "4    Cambodia         KHM      633.718833          31.533360       65.452955   \n",
       "\n",
       "   IS.SHP.GOOD.TU  IP.TMK.RESD  BX.KLT.DREM.CD.DT  EN.ATM.HFCG.KT.CE  \\\n",
       "0        0.028716     0.000111         151.723078           0.000043   \n",
       "1        0.008535     0.000063         148.184505           0.000008   \n",
       "2        0.022205     0.000130          20.780163           0.000000   \n",
       "3        0.064781     0.001476         159.190356           0.000016   \n",
       "4        0.044291     0.000120          72.994144           0.000000   \n",
       "\n",
       "   IT.NET.BBND  BX.GRT.EXTA.CD.WD  NY.GDP.MKTP.PP.CD  \n",
       "0     0.036807          81.727929       11978.772542  \n",
       "1     0.027456           2.235803       13906.141140  \n",
       "2     0.003612          27.880311        6286.571537  \n",
       "3     0.044980           1.634781       30848.469202  \n",
       "4     0.004146          78.618287        6028.525418  "
      ]
     },
     "execution_count": 398,
     "metadata": {},
     "output_type": "execute_result"
    }
   ],
   "source": [
    "df_features_countryAvg = df_features_combined.groupby(['CountryName','CountryCode'], as_index=False).mean()\n",
    "df_features_countryAvg = df_features_countryAvg.drop(['Year'], axis=1)\n",
    "\n",
    "df_features_countryAvg.head(5)"
   ]
  },
  {
   "cell_type": "code",
   "execution_count": 399,
   "metadata": {},
   "outputs": [
    {
     "data": {
      "text/html": [
       "<div>\n",
       "<style>\n",
       "    .dataframe thead tr:only-child th {\n",
       "        text-align: right;\n",
       "    }\n",
       "\n",
       "    .dataframe thead th {\n",
       "        text-align: left;\n",
       "    }\n",
       "\n",
       "    .dataframe tbody tr th {\n",
       "        vertical-align: top;\n",
       "    }\n",
       "</style>\n",
       "<table border=\"1\" class=\"dataframe\">\n",
       "  <thead>\n",
       "    <tr style=\"text-align: right;\">\n",
       "      <th></th>\n",
       "      <th>CountryName</th>\n",
       "      <th>CountryCode</th>\n",
       "      <th>NV.AGR.TOTL.CD</th>\n",
       "      <th>BX.TRF.PWKR.CD.DT</th>\n",
       "      <th>DT.NFL.DECT.CD</th>\n",
       "      <th>IS.SHP.GOOD.TU</th>\n",
       "      <th>IP.TMK.RESD</th>\n",
       "      <th>BX.KLT.DREM.CD.DT</th>\n",
       "      <th>EN.ATM.HFCG.KT.CE</th>\n",
       "      <th>IT.NET.BBND</th>\n",
       "      <th>BX.GRT.EXTA.CD.WD</th>\n",
       "      <th>NY.GDP.MKTP.PP.CD</th>\n",
       "    </tr>\n",
       "  </thead>\n",
       "  <tbody>\n",
       "    <tr>\n",
       "      <th>0</th>\n",
       "      <td>Albania</td>\n",
       "      <td>ALB</td>\n",
       "      <td>0.758783</td>\n",
       "      <td>0.796579</td>\n",
       "      <td>0.962113</td>\n",
       "      <td>0.020617</td>\n",
       "      <td>0.016528</td>\n",
       "      <td>0.320995</td>\n",
       "      <td>0.134760</td>\n",
       "      <td>0.395597</td>\n",
       "      <td>0.504490</td>\n",
       "      <td>0.235396</td>\n",
       "    </tr>\n",
       "    <tr>\n",
       "      <th>1</th>\n",
       "      <td>Algeria</td>\n",
       "      <td>DZA</td>\n",
       "      <td>0.261615</td>\n",
       "      <td>0.000000</td>\n",
       "      <td>0.124866</td>\n",
       "      <td>0.005332</td>\n",
       "      <td>0.000000</td>\n",
       "      <td>0.313508</td>\n",
       "      <td>0.026375</td>\n",
       "      <td>0.294799</td>\n",
       "      <td>0.007416</td>\n",
       "      <td>0.288003</td>\n",
       "    </tr>\n",
       "    <tr>\n",
       "      <th>2</th>\n",
       "      <td>Bangladesh</td>\n",
       "      <td>BGD</td>\n",
       "      <td>0.181024</td>\n",
       "      <td>0.226994</td>\n",
       "      <td>0.182388</td>\n",
       "      <td>0.015685</td>\n",
       "      <td>0.023121</td>\n",
       "      <td>0.043964</td>\n",
       "      <td>0.000000</td>\n",
       "      <td>0.037796</td>\n",
       "      <td>0.167775</td>\n",
       "      <td>0.080030</td>\n",
       "    </tr>\n",
       "    <tr>\n",
       "      <th>3</th>\n",
       "      <td>Brazil</td>\n",
       "      <td>BRA</td>\n",
       "      <td>0.511498</td>\n",
       "      <td>0.038432</td>\n",
       "      <td>0.333189</td>\n",
       "      <td>0.047933</td>\n",
       "      <td>0.486086</td>\n",
       "      <td>0.336793</td>\n",
       "      <td>0.048787</td>\n",
       "      <td>0.483692</td>\n",
       "      <td>0.003658</td>\n",
       "      <td>0.750437</td>\n",
       "    </tr>\n",
       "    <tr>\n",
       "      <th>4</th>\n",
       "      <td>Cambodia</td>\n",
       "      <td>KHM</td>\n",
       "      <td>0.453048</td>\n",
       "      <td>0.033311</td>\n",
       "      <td>0.239463</td>\n",
       "      <td>0.032414</td>\n",
       "      <td>0.019469</td>\n",
       "      <td>0.154431</td>\n",
       "      <td>0.000000</td>\n",
       "      <td>0.043555</td>\n",
       "      <td>0.485045</td>\n",
       "      <td>0.072987</td>\n",
       "    </tr>\n",
       "  </tbody>\n",
       "</table>\n",
       "</div>"
      ],
      "text/plain": [
       "  CountryName CountryCode  NV.AGR.TOTL.CD  BX.TRF.PWKR.CD.DT  DT.NFL.DECT.CD  \\\n",
       "0     Albania         ALB        0.758783           0.796579        0.962113   \n",
       "1     Algeria         DZA        0.261615           0.000000        0.124866   \n",
       "2  Bangladesh         BGD        0.181024           0.226994        0.182388   \n",
       "3      Brazil         BRA        0.511498           0.038432        0.333189   \n",
       "4    Cambodia         KHM        0.453048           0.033311        0.239463   \n",
       "\n",
       "   IS.SHP.GOOD.TU  IP.TMK.RESD  BX.KLT.DREM.CD.DT  EN.ATM.HFCG.KT.CE  \\\n",
       "0        0.020617     0.016528           0.320995           0.134760   \n",
       "1        0.005332     0.000000           0.313508           0.026375   \n",
       "2        0.015685     0.023121           0.043964           0.000000   \n",
       "3        0.047933     0.486086           0.336793           0.048787   \n",
       "4        0.032414     0.019469           0.154431           0.000000   \n",
       "\n",
       "   IT.NET.BBND  BX.GRT.EXTA.CD.WD  NY.GDP.MKTP.PP.CD  \n",
       "0     0.395597           0.504490           0.235396  \n",
       "1     0.294799           0.007416           0.288003  \n",
       "2     0.037796           0.167775           0.080030  \n",
       "3     0.483692           0.003658           0.750437  \n",
       "4     0.043555           0.485045           0.072987  "
      ]
     },
     "execution_count": 399,
     "metadata": {},
     "output_type": "execute_result"
    }
   ],
   "source": [
    "df_features_countryAvg_scaled = df_features_countryAvg\n",
    "for f in featured_codes:\n",
    "    df_features_countryAvg_scaled[[f]] = MinMaxScaler().fit_transform(df_features_countryAvg_scaled[[f]])\n",
    "df_features_countryAvg_scaled.head()"
   ]
  },
  {
   "cell_type": "code",
   "execution_count": 400,
   "metadata": {},
   "outputs": [],
   "source": [
    "df_features_countryAvg_scaled_avg = df_features_countryAvg_scaled\n",
    "df_features_countryAvg_scaled_avg['AVG'] = df_features_countryAvg_scaled_avg.mean(axis=1)\n",
    "for f in featured_codes:\n",
    "    df_features_countryAvg_scaled_avg.drop(f, axis = 1, inplace=True)\n",
    "df_features_countryAvg_scaled_avg = df_features_countryAvg_scaled_avg.sort_values(by=['AVG'])"
   ]
  },
  {
   "cell_type": "code",
   "execution_count": 402,
   "metadata": {},
   "outputs": [
    {
     "data": {
      "text/html": [
       "<div>\n",
       "<style>\n",
       "    .dataframe thead tr:only-child th {\n",
       "        text-align: right;\n",
       "    }\n",
       "\n",
       "    .dataframe thead th {\n",
       "        text-align: left;\n",
       "    }\n",
       "\n",
       "    .dataframe tbody tr th {\n",
       "        vertical-align: top;\n",
       "    }\n",
       "</style>\n",
       "<table border=\"1\" class=\"dataframe\">\n",
       "  <thead>\n",
       "    <tr style=\"text-align: right;\">\n",
       "      <th></th>\n",
       "      <th>CountryName</th>\n",
       "      <th>CountryCode</th>\n",
       "      <th>AVG</th>\n",
       "    </tr>\n",
       "  </thead>\n",
       "  <tbody>\n",
       "    <tr>\n",
       "      <th>15</th>\n",
       "      <td>Jamaica</td>\n",
       "      <td>JAM</td>\n",
       "      <td>0.361667</td>\n",
       "    </tr>\n",
       "    <tr>\n",
       "      <th>31</th>\n",
       "      <td>Turkey</td>\n",
       "      <td>TUR</td>\n",
       "      <td>0.364619</td>\n",
       "    </tr>\n",
       "    <tr>\n",
       "      <th>18</th>\n",
       "      <td>Low &amp; middle income</td>\n",
       "      <td>LMY</td>\n",
       "      <td>0.375248</td>\n",
       "    </tr>\n",
       "    <tr>\n",
       "      <th>6</th>\n",
       "      <td>Colombia</td>\n",
       "      <td>COL</td>\n",
       "      <td>0.387327</td>\n",
       "    </tr>\n",
       "    <tr>\n",
       "      <th>19</th>\n",
       "      <td>Malaysia</td>\n",
       "      <td>MYS</td>\n",
       "      <td>0.396094</td>\n",
       "    </tr>\n",
       "    <tr>\n",
       "      <th>20</th>\n",
       "      <td>Mexico</td>\n",
       "      <td>MEX</td>\n",
       "      <td>0.405907</td>\n",
       "    </tr>\n",
       "    <tr>\n",
       "      <th>0</th>\n",
       "      <td>Albania</td>\n",
       "      <td>ALB</td>\n",
       "      <td>0.414586</td>\n",
       "    </tr>\n",
       "    <tr>\n",
       "      <th>5</th>\n",
       "      <td>China</td>\n",
       "      <td>CHN</td>\n",
       "      <td>0.458202</td>\n",
       "    </tr>\n",
       "    <tr>\n",
       "      <th>25</th>\n",
       "      <td>Peru</td>\n",
       "      <td>PER</td>\n",
       "      <td>0.521901</td>\n",
       "    </tr>\n",
       "    <tr>\n",
       "      <th>7</th>\n",
       "      <td>Costa Rica</td>\n",
       "      <td>CRI</td>\n",
       "      <td>0.643711</td>\n",
       "    </tr>\n",
       "  </tbody>\n",
       "</table>\n",
       "</div>"
      ],
      "text/plain": [
       "            CountryName CountryCode       AVG\n",
       "15              Jamaica         JAM  0.361667\n",
       "31               Turkey         TUR  0.364619\n",
       "18  Low & middle income         LMY  0.375248\n",
       "6              Colombia         COL  0.387327\n",
       "19             Malaysia         MYS  0.396094\n",
       "20               Mexico         MEX  0.405907\n",
       "0               Albania         ALB  0.414586\n",
       "5                 China         CHN  0.458202\n",
       "25                 Peru         PER  0.521901\n",
       "7            Costa Rica         CRI  0.643711"
      ]
     },
     "execution_count": 402,
     "metadata": {},
     "output_type": "execute_result"
    }
   ],
   "source": [
    "df_features_countryAvg_scaled_avg.tail(10)"
   ]
  },
  {
   "cell_type": "code",
   "execution_count": 346,
   "metadata": {
    "collapsed": true
   },
   "outputs": [],
   "source": [
    "country_geo = 'wdi/world-countries.json'\n",
    "hist_indicator = df_features_countryAvg_scaled_avg.iloc[0]['AVG']"
   ]
  },
  {
   "cell_type": "code",
   "execution_count": 353,
   "metadata": {
    "collapsed": true
   },
   "outputs": [],
   "source": [
    "# Setup a folium map at a high-level zoom @Alok - what is the 100,0, doesn't seem like lat long\n",
    "map = folium.Map(location=[100, 0], zoom_start=1)"
   ]
  },
  {
   "cell_type": "code",
   "execution_count": 381,
   "metadata": {},
   "outputs": [
    {
     "name": "stderr",
     "output_type": "stream",
     "text": [
      "/Users/genterist/anaconda3/lib/python3.6/site-packages/ipykernel_launcher.py:6: FutureWarning: 'threshold_scale' default behavior has changed. Now you get a linear scale between the 'min' and the 'max' of your data. To get former behavior, use folium.utilities.split_six.\n",
      "  \n"
     ]
    }
   ],
   "source": [
    "# choropleth maps bind Pandas Data Frames and json geometries.  This allows us to quickly visualize data combinations\n",
    "map.choropleth(geo_path=country_geo, data=df_features_countryAvg_scaled_avg,\n",
    "               columns=['CountryCode', 'AVG'],\n",
    "               key_on='feature.id',\n",
    "               fill_color='YlGn', fill_opacity=0.7, line_opacity=0.2,\n",
    "               legend_name='Test'\n",
    "              )"
   ]
  },
  {
   "cell_type": "code",
   "execution_count": 385,
   "metadata": {},
   "outputs": [
    {
     "ename": "KeyError",
     "evalue": "'AFG'",
     "output_type": "error",
     "traceback": [
      "\u001b[0;31m---------------------------------------------------------------------------\u001b[0m",
      "\u001b[0;31mKeyError\u001b[0m                                  Traceback (most recent call last)",
      "\u001b[0;32m<ipython-input-385-af76673efd86>\u001b[0m in \u001b[0;36m<module>\u001b[0;34m()\u001b[0m\n\u001b[0;32m----> 1\u001b[0;31m \u001b[0mmap\u001b[0m\u001b[0;34m.\u001b[0m\u001b[0msave\u001b[0m\u001b[0;34m(\u001b[0m\u001b[0;34m'plot.html'\u001b[0m\u001b[0;34m)\u001b[0m\u001b[0;34m\u001b[0m\u001b[0m\n\u001b[0m\u001b[1;32m      2\u001b[0m \u001b[0;31m#display(map)\u001b[0m\u001b[0;34m\u001b[0m\u001b[0;34m\u001b[0m\u001b[0m\n\u001b[1;32m      3\u001b[0m \u001b[0;31m#map.choropleth\u001b[0m\u001b[0;34m\u001b[0m\u001b[0;34m\u001b[0m\u001b[0m\n",
      "\u001b[0;32m~/anaconda3/lib/python3.6/site-packages/folium/element.py\u001b[0m in \u001b[0;36msave\u001b[0;34m(self, outfile, close_file, **kwargs)\u001b[0m\n\u001b[1;32m    151\u001b[0m \u001b[0;34m\u001b[0m\u001b[0m\n\u001b[1;32m    152\u001b[0m         \u001b[0mroot\u001b[0m \u001b[0;34m=\u001b[0m \u001b[0mself\u001b[0m\u001b[0;34m.\u001b[0m\u001b[0mget_root\u001b[0m\u001b[0;34m(\u001b[0m\u001b[0;34m)\u001b[0m\u001b[0;34m\u001b[0m\u001b[0m\n\u001b[0;32m--> 153\u001b[0;31m         \u001b[0mhtml\u001b[0m \u001b[0;34m=\u001b[0m \u001b[0mroot\u001b[0m\u001b[0;34m.\u001b[0m\u001b[0mrender\u001b[0m\u001b[0;34m(\u001b[0m\u001b[0;34m**\u001b[0m\u001b[0mkwargs\u001b[0m\u001b[0;34m)\u001b[0m\u001b[0;34m\u001b[0m\u001b[0m\n\u001b[0m\u001b[1;32m    154\u001b[0m         \u001b[0mfid\u001b[0m\u001b[0;34m.\u001b[0m\u001b[0mwrite\u001b[0m\u001b[0;34m(\u001b[0m\u001b[0mhtml\u001b[0m\u001b[0;34m.\u001b[0m\u001b[0mencode\u001b[0m\u001b[0;34m(\u001b[0m\u001b[0;34m'utf8'\u001b[0m\u001b[0;34m)\u001b[0m\u001b[0;34m)\u001b[0m\u001b[0;34m\u001b[0m\u001b[0m\n\u001b[1;32m    155\u001b[0m         \u001b[0;32mif\u001b[0m \u001b[0mclose_file\u001b[0m\u001b[0;34m:\u001b[0m\u001b[0;34m\u001b[0m\u001b[0m\n",
      "\u001b[0;32m~/anaconda3/lib/python3.6/site-packages/folium/element.py\u001b[0m in \u001b[0;36mrender\u001b[0;34m(self, **kwargs)\u001b[0m\n\u001b[1;32m    357\u001b[0m         \u001b[0;34m\"\"\"Renders the HTML representation of the element.\"\"\"\u001b[0m\u001b[0;34m\u001b[0m\u001b[0m\n\u001b[1;32m    358\u001b[0m         \u001b[0;32mfor\u001b[0m \u001b[0mname\u001b[0m\u001b[0;34m,\u001b[0m \u001b[0mchild\u001b[0m \u001b[0;32min\u001b[0m \u001b[0mself\u001b[0m\u001b[0;34m.\u001b[0m\u001b[0m_children\u001b[0m\u001b[0;34m.\u001b[0m\u001b[0mitems\u001b[0m\u001b[0;34m(\u001b[0m\u001b[0;34m)\u001b[0m\u001b[0;34m:\u001b[0m\u001b[0;34m\u001b[0m\u001b[0m\n\u001b[0;32m--> 359\u001b[0;31m             \u001b[0mchild\u001b[0m\u001b[0;34m.\u001b[0m\u001b[0mrender\u001b[0m\u001b[0;34m(\u001b[0m\u001b[0;34m**\u001b[0m\u001b[0mkwargs\u001b[0m\u001b[0;34m)\u001b[0m\u001b[0;34m\u001b[0m\u001b[0m\n\u001b[0m\u001b[1;32m    360\u001b[0m         \u001b[0;32mreturn\u001b[0m \u001b[0mself\u001b[0m\u001b[0;34m.\u001b[0m\u001b[0m_template\u001b[0m\u001b[0;34m.\u001b[0m\u001b[0mrender\u001b[0m\u001b[0;34m(\u001b[0m\u001b[0mthis\u001b[0m\u001b[0;34m=\u001b[0m\u001b[0mself\u001b[0m\u001b[0;34m,\u001b[0m \u001b[0mkwargs\u001b[0m\u001b[0;34m=\u001b[0m\u001b[0mkwargs\u001b[0m\u001b[0;34m)\u001b[0m\u001b[0;34m\u001b[0m\u001b[0m\n\u001b[1;32m    361\u001b[0m \u001b[0;34m\u001b[0m\u001b[0m\n",
      "\u001b[0;32m~/anaconda3/lib/python3.6/site-packages/folium/element.py\u001b[0m in \u001b[0;36mrender\u001b[0;34m(self, **kwargs)\u001b[0m\n\u001b[1;32m    665\u001b[0m \u001b[0;34m\u001b[0m\u001b[0m\n\u001b[1;32m    666\u001b[0m         \u001b[0;32mfor\u001b[0m \u001b[0mname\u001b[0m\u001b[0;34m,\u001b[0m \u001b[0melement\u001b[0m \u001b[0;32min\u001b[0m \u001b[0mself\u001b[0m\u001b[0;34m.\u001b[0m\u001b[0m_children\u001b[0m\u001b[0;34m.\u001b[0m\u001b[0mitems\u001b[0m\u001b[0;34m(\u001b[0m\u001b[0;34m)\u001b[0m\u001b[0;34m:\u001b[0m\u001b[0;34m\u001b[0m\u001b[0m\n\u001b[0;32m--> 667\u001b[0;31m             \u001b[0melement\u001b[0m\u001b[0;34m.\u001b[0m\u001b[0mrender\u001b[0m\u001b[0;34m(\u001b[0m\u001b[0;34m**\u001b[0m\u001b[0mkwargs\u001b[0m\u001b[0;34m)\u001b[0m\u001b[0;34m\u001b[0m\u001b[0m\n\u001b[0m",
      "\u001b[0;32m~/anaconda3/lib/python3.6/site-packages/folium/element.py\u001b[0m in \u001b[0;36mrender\u001b[0;34m(self, **kwargs)\u001b[0m\n\u001b[1;32m    661\u001b[0m         \u001b[0mscript\u001b[0m \u001b[0;34m=\u001b[0m \u001b[0mself\u001b[0m\u001b[0;34m.\u001b[0m\u001b[0m_template\u001b[0m\u001b[0;34m.\u001b[0m\u001b[0mmodule\u001b[0m\u001b[0;34m.\u001b[0m\u001b[0m__dict__\u001b[0m\u001b[0;34m.\u001b[0m\u001b[0mget\u001b[0m\u001b[0;34m(\u001b[0m\u001b[0;34m'script'\u001b[0m\u001b[0;34m,\u001b[0m \u001b[0;32mNone\u001b[0m\u001b[0;34m)\u001b[0m\u001b[0;34m\u001b[0m\u001b[0m\n\u001b[1;32m    662\u001b[0m         \u001b[0;32mif\u001b[0m \u001b[0mscript\u001b[0m \u001b[0;32mis\u001b[0m \u001b[0;32mnot\u001b[0m \u001b[0;32mNone\u001b[0m\u001b[0;34m:\u001b[0m\u001b[0;34m\u001b[0m\u001b[0m\n\u001b[0;32m--> 663\u001b[0;31m             figure.script.add_children(Element(script(self, kwargs)),\n\u001b[0m\u001b[1;32m    664\u001b[0m                                        name=self.get_name())\n\u001b[1;32m    665\u001b[0m \u001b[0;34m\u001b[0m\u001b[0m\n",
      "\u001b[0;32m~/anaconda3/lib/python3.6/site-packages/jinja2/runtime.py\u001b[0m in \u001b[0;36m__call__\u001b[0;34m(self, *args, **kwargs)\u001b[0m\n\u001b[1;32m    547\u001b[0m                             (self.name, len(self.arguments)))\n\u001b[1;32m    548\u001b[0m \u001b[0;34m\u001b[0m\u001b[0m\n\u001b[0;32m--> 549\u001b[0;31m         \u001b[0;32mreturn\u001b[0m \u001b[0mself\u001b[0m\u001b[0;34m.\u001b[0m\u001b[0m_invoke\u001b[0m\u001b[0;34m(\u001b[0m\u001b[0marguments\u001b[0m\u001b[0;34m,\u001b[0m \u001b[0mautoescape\u001b[0m\u001b[0;34m)\u001b[0m\u001b[0;34m\u001b[0m\u001b[0m\n\u001b[0m\u001b[1;32m    550\u001b[0m \u001b[0;34m\u001b[0m\u001b[0m\n\u001b[1;32m    551\u001b[0m     \u001b[0;32mdef\u001b[0m \u001b[0m_invoke\u001b[0m\u001b[0;34m(\u001b[0m\u001b[0mself\u001b[0m\u001b[0;34m,\u001b[0m \u001b[0marguments\u001b[0m\u001b[0;34m,\u001b[0m \u001b[0mautoescape\u001b[0m\u001b[0;34m)\u001b[0m\u001b[0;34m:\u001b[0m\u001b[0;34m\u001b[0m\u001b[0m\n",
      "\u001b[0;32m~/anaconda3/lib/python3.6/site-packages/jinja2/asyncsupport.py\u001b[0m in \u001b[0;36m_invoke\u001b[0;34m(self, arguments, autoescape)\u001b[0m\n\u001b[1;32m    108\u001b[0m     \u001b[0;32mdef\u001b[0m \u001b[0m_invoke\u001b[0m\u001b[0;34m(\u001b[0m\u001b[0mself\u001b[0m\u001b[0;34m,\u001b[0m \u001b[0marguments\u001b[0m\u001b[0;34m,\u001b[0m \u001b[0mautoescape\u001b[0m\u001b[0;34m)\u001b[0m\u001b[0;34m:\u001b[0m\u001b[0;34m\u001b[0m\u001b[0m\n\u001b[1;32m    109\u001b[0m         \u001b[0;32mif\u001b[0m \u001b[0;32mnot\u001b[0m \u001b[0mself\u001b[0m\u001b[0;34m.\u001b[0m\u001b[0m_environment\u001b[0m\u001b[0;34m.\u001b[0m\u001b[0mis_async\u001b[0m\u001b[0;34m:\u001b[0m\u001b[0;34m\u001b[0m\u001b[0m\n\u001b[0;32m--> 110\u001b[0;31m             \u001b[0;32mreturn\u001b[0m \u001b[0moriginal_invoke\u001b[0m\u001b[0;34m(\u001b[0m\u001b[0mself\u001b[0m\u001b[0;34m,\u001b[0m \u001b[0marguments\u001b[0m\u001b[0;34m,\u001b[0m \u001b[0mautoescape\u001b[0m\u001b[0;34m)\u001b[0m\u001b[0;34m\u001b[0m\u001b[0m\n\u001b[0m\u001b[1;32m    111\u001b[0m         \u001b[0;32mreturn\u001b[0m \u001b[0masync_invoke\u001b[0m\u001b[0;34m(\u001b[0m\u001b[0mself\u001b[0m\u001b[0;34m,\u001b[0m \u001b[0marguments\u001b[0m\u001b[0;34m,\u001b[0m \u001b[0mautoescape\u001b[0m\u001b[0;34m)\u001b[0m\u001b[0;34m\u001b[0m\u001b[0m\n\u001b[1;32m    112\u001b[0m     \u001b[0;32mreturn\u001b[0m \u001b[0mupdate_wrapper\u001b[0m\u001b[0;34m(\u001b[0m\u001b[0m_invoke\u001b[0m\u001b[0;34m,\u001b[0m \u001b[0moriginal_invoke\u001b[0m\u001b[0;34m)\u001b[0m\u001b[0;34m\u001b[0m\u001b[0m\n",
      "\u001b[0;32m~/anaconda3/lib/python3.6/site-packages/jinja2/runtime.py\u001b[0m in \u001b[0;36m_invoke\u001b[0;34m(self, arguments, autoescape)\u001b[0m\n\u001b[1;32m    551\u001b[0m     \u001b[0;32mdef\u001b[0m \u001b[0m_invoke\u001b[0m\u001b[0;34m(\u001b[0m\u001b[0mself\u001b[0m\u001b[0;34m,\u001b[0m \u001b[0marguments\u001b[0m\u001b[0;34m,\u001b[0m \u001b[0mautoescape\u001b[0m\u001b[0;34m)\u001b[0m\u001b[0;34m:\u001b[0m\u001b[0;34m\u001b[0m\u001b[0m\n\u001b[1;32m    552\u001b[0m         \u001b[0;34m\"\"\"This method is being swapped out by the async implementation.\"\"\"\u001b[0m\u001b[0;34m\u001b[0m\u001b[0m\n\u001b[0;32m--> 553\u001b[0;31m         \u001b[0mrv\u001b[0m \u001b[0;34m=\u001b[0m \u001b[0mself\u001b[0m\u001b[0;34m.\u001b[0m\u001b[0m_func\u001b[0m\u001b[0;34m(\u001b[0m\u001b[0;34m*\u001b[0m\u001b[0marguments\u001b[0m\u001b[0;34m)\u001b[0m\u001b[0;34m\u001b[0m\u001b[0m\n\u001b[0m\u001b[1;32m    554\u001b[0m         \u001b[0;32mif\u001b[0m \u001b[0mautoescape\u001b[0m\u001b[0;34m:\u001b[0m\u001b[0;34m\u001b[0m\u001b[0m\n\u001b[1;32m    555\u001b[0m             \u001b[0mrv\u001b[0m \u001b[0;34m=\u001b[0m \u001b[0mMarkup\u001b[0m\u001b[0;34m(\u001b[0m\u001b[0mrv\u001b[0m\u001b[0;34m)\u001b[0m\u001b[0;34m\u001b[0m\u001b[0m\n",
      "\u001b[0;32m<template>\u001b[0m in \u001b[0;36mmacro\u001b[0;34m(l_1_this, l_1_kwargs)\u001b[0m\n",
      "\u001b[0;32m~/anaconda3/lib/python3.6/site-packages/jinja2/runtime.py\u001b[0m in \u001b[0;36mcall\u001b[0;34m(_Context__self, _Context__obj, *args, **kwargs)\u001b[0m\n\u001b[1;32m    258\u001b[0m                 \u001b[0margs\u001b[0m \u001b[0;34m=\u001b[0m \u001b[0;34m(\u001b[0m\u001b[0m__self\u001b[0m\u001b[0;34m.\u001b[0m\u001b[0menvironment\u001b[0m\u001b[0;34m,\u001b[0m\u001b[0;34m)\u001b[0m \u001b[0;34m+\u001b[0m \u001b[0margs\u001b[0m\u001b[0;34m\u001b[0m\u001b[0m\n\u001b[1;32m    259\u001b[0m         \u001b[0;32mtry\u001b[0m\u001b[0;34m:\u001b[0m\u001b[0;34m\u001b[0m\u001b[0m\n\u001b[0;32m--> 260\u001b[0;31m             \u001b[0;32mreturn\u001b[0m \u001b[0m__obj\u001b[0m\u001b[0;34m(\u001b[0m\u001b[0;34m*\u001b[0m\u001b[0margs\u001b[0m\u001b[0;34m,\u001b[0m \u001b[0;34m**\u001b[0m\u001b[0mkwargs\u001b[0m\u001b[0;34m)\u001b[0m\u001b[0;34m\u001b[0m\u001b[0m\n\u001b[0m\u001b[1;32m    261\u001b[0m         \u001b[0;32mexcept\u001b[0m \u001b[0mStopIteration\u001b[0m\u001b[0;34m:\u001b[0m\u001b[0;34m\u001b[0m\u001b[0m\n\u001b[1;32m    262\u001b[0m             return __self.environment.undefined('value was undefined because '\n",
      "\u001b[0;32m~/anaconda3/lib/python3.6/site-packages/folium/features.py\u001b[0m in \u001b[0;36mstyle_data\u001b[0;34m(self)\u001b[0m\n\u001b[1;32m    352\u001b[0m \u001b[0;34m\u001b[0m\u001b[0m\n\u001b[1;32m    353\u001b[0m         \u001b[0;32mfor\u001b[0m \u001b[0mfeature\u001b[0m \u001b[0;32min\u001b[0m \u001b[0mself\u001b[0m\u001b[0;34m.\u001b[0m\u001b[0mdata\u001b[0m\u001b[0;34m[\u001b[0m\u001b[0;34m'features'\u001b[0m\u001b[0;34m]\u001b[0m\u001b[0;34m:\u001b[0m\u001b[0;34m\u001b[0m\u001b[0m\n\u001b[0;32m--> 354\u001b[0;31m             \u001b[0mfeature\u001b[0m\u001b[0;34m.\u001b[0m\u001b[0msetdefault\u001b[0m\u001b[0;34m(\u001b[0m\u001b[0;34m'properties'\u001b[0m\u001b[0;34m,\u001b[0m \u001b[0;34m{\u001b[0m\u001b[0;34m}\u001b[0m\u001b[0;34m)\u001b[0m\u001b[0;34m.\u001b[0m\u001b[0msetdefault\u001b[0m\u001b[0;34m(\u001b[0m\u001b[0;34m'style'\u001b[0m\u001b[0;34m,\u001b[0m \u001b[0;34m{\u001b[0m\u001b[0;34m}\u001b[0m\u001b[0;34m)\u001b[0m\u001b[0;34m.\u001b[0m\u001b[0mupdate\u001b[0m\u001b[0;34m(\u001b[0m\u001b[0mself\u001b[0m\u001b[0;34m.\u001b[0m\u001b[0mstyle_function\u001b[0m\u001b[0;34m(\u001b[0m\u001b[0mfeature\u001b[0m\u001b[0;34m)\u001b[0m\u001b[0;34m)\u001b[0m  \u001b[0;31m# noqa\u001b[0m\u001b[0;34m\u001b[0m\u001b[0m\n\u001b[0m\u001b[1;32m    355\u001b[0m         \u001b[0;32mreturn\u001b[0m \u001b[0mjson\u001b[0m\u001b[0;34m.\u001b[0m\u001b[0mdumps\u001b[0m\u001b[0;34m(\u001b[0m\u001b[0mself\u001b[0m\u001b[0;34m.\u001b[0m\u001b[0mdata\u001b[0m\u001b[0;34m,\u001b[0m \u001b[0msort_keys\u001b[0m\u001b[0;34m=\u001b[0m\u001b[0;32mTrue\u001b[0m\u001b[0;34m)\u001b[0m\u001b[0;34m\u001b[0m\u001b[0m\n\u001b[1;32m    356\u001b[0m \u001b[0;34m\u001b[0m\u001b[0m\n",
      "\u001b[0;32m~/anaconda3/lib/python3.6/site-packages/folium/folium.py\u001b[0m in \u001b[0;36mstyle_function\u001b[0;34m(x)\u001b[0m\n\u001b[1;32m    671\u001b[0m                 \u001b[0;34m\"color\"\u001b[0m\u001b[0;34m:\u001b[0m \u001b[0mline_color\u001b[0m\u001b[0;34m,\u001b[0m\u001b[0;34m\u001b[0m\u001b[0m\n\u001b[1;32m    672\u001b[0m                 \u001b[0;34m\"fillOpacity\"\u001b[0m\u001b[0;34m:\u001b[0m \u001b[0mfill_opacity\u001b[0m\u001b[0;34m,\u001b[0m\u001b[0;34m\u001b[0m\u001b[0m\n\u001b[0;32m--> 673\u001b[0;31m                 \u001b[0;34m\"fillColor\"\u001b[0m\u001b[0;34m:\u001b[0m \u001b[0mcolor_scale_fun\u001b[0m\u001b[0;34m(\u001b[0m\u001b[0mx\u001b[0m\u001b[0;34m)\u001b[0m\u001b[0;34m\u001b[0m\u001b[0m\n\u001b[0m\u001b[1;32m    674\u001b[0m             }\n\u001b[1;32m    675\u001b[0m \u001b[0;34m\u001b[0m\u001b[0m\n",
      "\u001b[0;32m~/anaconda3/lib/python3.6/site-packages/folium/folium.py\u001b[0m in \u001b[0;36mcolor_scale_fun\u001b[0;34m(x)\u001b[0m\n\u001b[1;32m    659\u001b[0m             \u001b[0;32mdef\u001b[0m \u001b[0mcolor_scale_fun\u001b[0m\u001b[0;34m(\u001b[0m\u001b[0mx\u001b[0m\u001b[0;34m)\u001b[0m\u001b[0;34m:\u001b[0m\u001b[0;34m\u001b[0m\u001b[0m\n\u001b[1;32m    660\u001b[0m                 return color_range[len(\n\u001b[0;32m--> 661\u001b[0;31m                     [u for u in color_domain if\n\u001b[0m\u001b[1;32m    662\u001b[0m                      u <= color_data[get_by_key(x, key_on)]])]\n\u001b[1;32m    663\u001b[0m         \u001b[0;32melse\u001b[0m\u001b[0;34m:\u001b[0m\u001b[0;34m\u001b[0m\u001b[0m\n",
      "\u001b[0;32m~/anaconda3/lib/python3.6/site-packages/folium/folium.py\u001b[0m in \u001b[0;36m<listcomp>\u001b[0;34m(.0)\u001b[0m\n\u001b[1;32m    660\u001b[0m                 return color_range[len(\n\u001b[1;32m    661\u001b[0m                     [u for u in color_domain if\n\u001b[0;32m--> 662\u001b[0;31m                      u <= color_data[get_by_key(x, key_on)]])]\n\u001b[0m\u001b[1;32m    663\u001b[0m         \u001b[0;32melse\u001b[0m\u001b[0;34m:\u001b[0m\u001b[0;34m\u001b[0m\u001b[0m\n\u001b[1;32m    664\u001b[0m             \u001b[0;32mdef\u001b[0m \u001b[0mcolor_scale_fun\u001b[0m\u001b[0;34m(\u001b[0m\u001b[0mx\u001b[0m\u001b[0;34m)\u001b[0m\u001b[0;34m:\u001b[0m\u001b[0;34m\u001b[0m\u001b[0m\n",
      "\u001b[0;31mKeyError\u001b[0m: 'AFG'"
     ]
    }
   ],
   "source": [
    "map.save('plot.html')\n",
    "#display(map)\n",
    "#map.choropleth"
   ]
  },
  {
   "cell_type": "code",
   "execution_count": null,
   "metadata": {
    "collapsed": true
   },
   "outputs": [],
   "source": []
  }
 ],
 "metadata": {
  "kernelspec": {
   "display_name": "Python 3",
   "language": "python",
   "name": "python3"
  }
 },
 "nbformat": 4,
 "nbformat_minor": 2
}
